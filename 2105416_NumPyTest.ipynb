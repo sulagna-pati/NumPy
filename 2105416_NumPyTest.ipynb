{
 "cells": [
  {
   "cell_type": "markdown",
   "id": "1f9510e1",
   "metadata": {},
   "source": [
    "1.A                                        \n",
    "2.B\n",
    "3.A\n",
    "4.B\n",
    "5.B\n",
    "6.B\n",
    "7.B\n",
    "8.A\n",
    "9.B\n",
    "10.A\n",
    "11.C\n",
    "12.B\n",
    "13.C\n",
    "14.C\n",
    "15.A\n",
    "16.A\n",
    "17.A\n",
    "18.A\n",
    "19.A\n",
    "20.C\n",
    "21.A\n",
    "22.B\n",
    "23.B\n",
    "24.D\n",
    "25.A\n",
    "26.B\n",
    "27.D\n",
    "28.C\n",
    "29.C\n",
    "30.C\n",
    "31.B\n",
    "32.B\n",
    "33.A\n",
    "34.D\n",
    "35.D\n",
    "36.A\n",
    "37.B\n",
    "38.C\n",
    "39.D\n",
    "40.C\n",
    "41.B\n",
    "42.A\n",
    "43.A\n",
    "44.D\n",
    "45.C\n",
    "46.A\n",
    "47.D\n",
    "48.A\n",
    "49.A\n",
    "50.A\n",
    "51.C"
   ]
  }
 ],
 "metadata": {
  "kernelspec": {
   "display_name": "Python 3 (ipykernel)",
   "language": "python",
   "name": "python3"
  },
  "language_info": {
   "codemirror_mode": {
    "name": "ipython",
    "version": 3
   },
   "file_extension": ".py",
   "mimetype": "text/x-python",
   "name": "python",
   "nbconvert_exporter": "python",
   "pygments_lexer": "ipython3",
   "version": "3.10.9"
  }
 },
 "nbformat": 4,
 "nbformat_minor": 5
}
